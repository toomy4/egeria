{
 "cells": [
  {
   "cell_type": "markdown",
   "metadata": {},
   "source": [
    "![Egeria Logo](https://raw.githubusercontent.com/odpi/egeria/master/assets/img/ODPi_Egeria_Logo_color.png)\n",
    "\n",
    "### ODPi Egeria Hands-On Lab\n",
    "# Welcome to the Understanding an Asset Lab\n",
    "\n",
    "**NOTE - this lab is still under construction**"
   ]
  },
  {
   "cell_type": "markdown",
   "metadata": {},
   "source": [
    "## Introduction\n",
    "\n",
    "ODPi Egeria is an open source project that provides open standards and implementation libraries to connect tools, catalogues and platforms together so they can share information about data and technology (called metadata).\n",
    "\n",
    "In this hands-on lab you will get a chance to explore the types of properties (metadata) that can be stored about an asset."
   ]
  },
  {
   "cell_type": "markdown",
   "metadata": {},
   "source": [
    "## The scenario\n",
    "\n",
    "Callie Quartile is a data scientist at Coco Pharmaceuticals.  She is responsible for analysing the data that is generated during a clinical trial.\n",
    "\n",
    "![Callie Quartile](https://raw.githubusercontent.com/odpi/data-governance/master/docs/coco-pharmaceuticals/personas/callie-quartile.png)\n",
    "\n",
    "Callie's userId is `calliequartile`."
   ]
  },
  {
   "cell_type": "code",
   "execution_count": null,
   "metadata": {},
   "outputs": [],
   "source": [
    "calliesUserId = \"calliequartile\""
   ]
  },
  {
   "cell_type": "markdown",
   "metadata": {},
   "source": [
    "Clinical trial data is stored in Coco Pharmaceutical's data lake as **data sets**.  A data set is a collection of related data.  For example, a data set may be the names, addresses of all patients in a clinical trail.  Or it may be the measurements from a particular test,\n",
    "of the notes from a physician as a result of a patient consultation.  There is no upper or lower limit on the\n",
    "size of a data set.  It just has to contain a useful collection of data.\n",
    "\n",
    "In this hands-on lab Callie wants to create clusters of patients involved in the trial based on their characteristics.\n",
    "This will help her look for patterns in the measurement data they receive through the clinical trial."
   ]
  },
  {
   "cell_type": "markdown",
   "metadata": {},
   "source": [
    "# Setting up\n",
    "\n",
    "Coco Pharmaceuticals make widespread use of ODPi Egeria for tracking and managing their data and related assets.\n",
    "Figure 1 below shows the metadata servers and the platforms that are hosting them.\n",
    "\n",
    "![Figure 1](../images/coco-pharmaceuticals-systems-omag-server-platforms.png)\n",
    "> **Figure 1:** Coco Pharmaceuticals' OMAG Server Platforms\n",
    "\n",
    "The code below checks that the platforms are running.  It checks that the servers are configured and then if they are running on the platform.  If a server is configured, but not running, it will start it.\n",
    "\n",
    "Look for the \"Done.\" message.  This appears when `environment-check` has finished."
   ]
  },
  {
   "cell_type": "code",
   "execution_count": null,
   "metadata": {},
   "outputs": [],
   "source": [
    "%run ../common/environment-check.ipynb"
   ]
  },
  {
   "cell_type": "markdown",
   "metadata": {},
   "source": [
    "----\n",
    "Callie is using the research team's metadata server called `cocoMDS3`. This server is hosted on the Core OMAG Server Platform.\n",
    "\n",
    "If any of the platforms are not running, follow [this link to set up and run the platform](https://egeria.odpi.org/open-metadata-resources/open-metadata-labs/).  If any server is reporting that it is not configured then\n",
    "run the steps in the [Server Configuration](../egeria-server-config.ipynb) lab to configure\n",
    "the servers.  Then re-run the previous step to ensure all of the servers are started.\n",
    "\n",
    "----\n",
    "## Setting up the metadata repository\n",
    "\n",
    "The code below catalogs an asset in the `cocoMDS1` metadata repository.  It is mimicking the work of the\n",
    "data lake operations team when they set up a new asset.\n",
    "Once the set up is complete then Callie can begin to explore the asset's properties."
   ]
  },
  {
   "cell_type": "code",
   "execution_count": null,
   "metadata": {},
   "outputs": [],
   "source": [
    "displayName = \"Drop Foot Clinical Trial Patients\"\n",
    "description = \"List of patients registered for the drop foot clinical trial.\"\n",
    "fullPath    = \"file://secured/research/clinical-trials/drop-foot/Patients.csv\"\n",
    "assetName   = \"Patient Asset\"\n",
    "\n",
    "assetGUIDs = assetOwnerCreateCSVAsset(cocoMDS1Name, cocoMDS1PlatformName, cocoMDS1PlatformURL, petersUserId, displayName, description, fullPath)\n",
    "\n",
    "assetGUID = getLastGUID(assetGUIDs)\n",
    "\n",
    "print(\"Created \" + assetName)\n",
    "\n",
    "commentType = \"STANDARD_COMMENT\"\n",
    "commentText = \"The hospital is still recruiting patients and so we are expecting a new version of this file at the end of week 4\"\n",
    "isPublic    = True\n",
    "\n",
    "commentGUID = addCommentToAsset(cocoMDS1Name,\n",
    "                                cocoMDS1PlatformName,\n",
    "                                cocoMDS1PlatformURL,\n",
    "                                petersUserId,\n",
    "                                assetGUID,\n",
    "                                commentText,\n",
    "                                commentType,\n",
    "                                isPublic)\n",
    "\n",
    "patientAssetOwner = \"tanyatidie\"\n",
    "patientOwnerType  = \"USER_ID\"\n",
    "\n",
    "addOwner(cocoMDS2Name, cocoMDS2PlatformName, cocoMDS2PlatformURL, erinsUserId, assetName, assetGUID, patientAssetOwner, patientOwnerType)\n",
    "addZones(cocoMDS2Name, cocoMDS2PlatformName, cocoMDS2PlatformURL, erinsUserId, assetName, assetGUID, [\"data-lake\", \"clinical-trials\"])\n",
    "\n",
    "print(\"Done.\")"
   ]
  },
  {
   "cell_type": "markdown",
   "metadata": {},
   "source": [
    "----\n",
    "One you see the message \"Done.\" then the asset is ready for Callie to explore.\n",
    "\n",
    "---\n",
    "## Retrieving information about an asset\n",
    "\n",
    "The call below looks for all assets that contain the string \"Patient\".  This should include the new\n",
    "asset that was just created.  The value(s) returned are the unique identifiers for the assets."
   ]
  },
  {
   "cell_type": "code",
   "execution_count": null,
   "metadata": {},
   "outputs": [],
   "source": [
    "assetConsumerSearchForAssets(cocoMDS3Name, cocoMDS3PlatformName, cocoMDS3PlatformURL, calliesUserId, \".*Patient.*\")"
   ]
  },
  {
   "cell_type": "markdown",
   "metadata": {},
   "source": [
    "----\n",
    "The search results show that Callie is able to locate the asset. The call below retrieves the core information about the asset along with an indication of what other information is available about the asset.\n",
    "\n",
    "----"
   ]
  },
  {
   "cell_type": "code",
   "execution_count": null,
   "metadata": {},
   "outputs": [],
   "source": [
    "printAssetUniverse(cocoMDS3Name, cocoMDS3PlatformName, cocoMDS3PlatformURL, calliesUserId, assetGUID)"
   ]
  },
  {
   "cell_type": "markdown",
   "metadata": {},
   "source": [
    "----"
   ]
  }
 ],
 "metadata": {
  "kernelspec": {
   "display_name": "Python 3",
   "language": "python",
   "name": "python3"
  },
  "language_info": {
   "codemirror_mode": {
    "name": "ipython",
    "version": 3
   },
   "file_extension": ".py",
   "mimetype": "text/x-python",
   "name": "python",
   "nbconvert_exporter": "python",
   "pygments_lexer": "ipython3",
   "version": "3.7.4"
  }
 },
 "nbformat": 4,
 "nbformat_minor": 4
}
